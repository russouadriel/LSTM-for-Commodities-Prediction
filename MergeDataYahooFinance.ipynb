{
 "cells": [
  {
   "cell_type": "code",
   "execution_count": 11,
   "outputs": [],
   "source": [
    "import pandas as pd\n",
    "import numpy as np\n",
    "import functools"
   ],
   "metadata": {
    "collapsed": false,
    "pycharm": {
     "name": "#%%\n"
    }
   }
  },
  {
   "cell_type": "code",
   "execution_count": 12,
   "metadata": {
    "collapsed": true
   },
   "outputs": [],
   "source": [
    "df_cocoa = pd.read_csv('DB Commodities/CC=F_Cocoa.csv')\n",
    "df_cocoa = df_cocoa[['Date','Close']]\n",
    "df_cocoa = df_cocoa.rename({'Close': 'cocoa'}, axis=1)\n",
    "\n",
    "df_crude_oil = pd.read_csv('DB Commodities/CL=F_Crude Oil.csv')\n",
    "df_crude_oil = df_crude_oil[['Date','Close']]\n",
    "df_crude_oil = df_crude_oil.rename({'Close': 'crude_oil'}, axis=1)\n",
    "\n",
    "df_cotton = pd.read_csv('DB Commodities/CT=F_Cotton.csv')\n",
    "df_cotton = df_cotton[['Date','Close']]\n",
    "df_cotton = df_cotton.rename({'Close': 'cotton'}, axis=1)\n",
    "\n",
    "df_gold = pd.read_csv('DB Commodities/GC=F_Gold.csv')\n",
    "df_gold = df_gold[['Date','Close']]\n",
    "df_gold = df_gold.rename({'Close': 'gold'}, axis=1)\n",
    "\n",
    "df_lean_hogs = pd.read_csv('DB Commodities/HE=F_Lean Hogs.csv')\n",
    "df_lean_hogs = df_lean_hogs[['Date','Close']]\n",
    "df_lean_hogs = df_lean_hogs.rename({'Close': 'lean_hogs'}, axis=1)\n",
    "\n",
    "df_copper = pd.read_csv('DB Commodities/HG=F_Copper .csv')\n",
    "df_copper = df_copper[['Date','Close']]\n",
    "df_copper = df_copper.rename({'Close': 'copper'}, axis=1)\n",
    "\n",
    "df_coffe = pd.read_csv('DB Commodities/KC=F_Coffee.csv')\n",
    "df_coffe = df_coffe[['Date','Close']]\n",
    "df_coffe = df_coffe.rename({'Close': 'coffe'}, axis=1)\n",
    "\n",
    "df_wheat = pd.read_csv('DB Commodities/KE=F_KC HRW Wheat.csv')\n",
    "df_wheat = df_wheat[['Date','Close']]\n",
    "df_wheat = df_wheat.rename({'Close': 'wheat'}, axis=1)\n",
    "\n",
    "df_live_cattle = pd.read_csv('DB Commodities/LE=F_Live Cattle .csv')\n",
    "df_live_cattle = df_live_cattle[['Date','Close']]\n",
    "df_live_cattle = df_live_cattle.rename({'Close': 'live_cattle'}, axis=1)\n",
    "\n",
    "df_natural_gas = pd.read_csv('DB Commodities/NG=F_Natural Gas.csv')\n",
    "df_natural_gas = df_natural_gas[['Date','Close']]\n",
    "df_natural_gas = df_natural_gas.rename({'Close': 'natural_gas'}, axis=1)\n",
    "\n",
    "df_platinum = pd.read_csv('DB Commodities/PL=F_Platinum.csv')\n",
    "df_platinum = df_platinum[['Date','Close']]\n",
    "df_platinum = df_platinum.rename({'Close': 'platinum'}, axis=1)\n",
    "\n",
    "df_sugar = pd.read_csv('DB Commodities/SB=F_Sugar.csv')\n",
    "df_sugar = df_sugar[['Date','Close']]\n",
    "df_sugar = df_sugar.rename({'Close': 'sugar'}, axis=1)\n",
    "\n",
    "df_silver = pd.read_csv('DB Commodities/SI=F_Silver.csv')\n",
    "df_silver = df_silver[['Date','Close']]\n",
    "df_silver = df_silver.rename({'Close': 'silver'}, axis=1)\n",
    "\n",
    "df_corn = pd.read_csv('DB Commodities/ZC=F_Corn.csv')\n",
    "df_corn = df_corn[['Date','Close']]\n",
    "df_corn = df_corn.rename({'Close': 'corn'}, axis=1)\n",
    "\n",
    "df_oat = pd.read_csv('DB Commodities/ZO=F_Oat.csv')\n",
    "df_oat = df_oat[['Date','Close']]\n",
    "df_oat = df_oat.rename({'Close': 'oat'}, axis=1)\n",
    "\n",
    "df_rough_rice = pd.read_csv('DB Commodities/ZR=F_Rough Rice.csv')\n",
    "df_rough_rice = df_rough_rice[['Date','Close']]\n",
    "df_rough_rice = df_rough_rice.rename({'Close': 'rough_rice'}, axis=1)\n",
    "\n",
    "df_soybean = pd.read_csv('DB Commodities/ZS=F_Soybean.csv')\n",
    "df_soybean = df_soybean[['Date','Close']]\n",
    "df_soybean = df_soybean.rename({'Close': 'soybean'}, axis=1)\n"
   ]
  },
  {
   "cell_type": "code",
   "execution_count": 13,
   "outputs": [],
   "source": [
    "#df=pd.merge(df_cocoa, df_crude_oil,df_cotton,df_gold,df_lean_hogs,df_copper,df_coffe,df_wheat,df_live_cattle,df_natural_gas,df_platinum,df_sugar,df_silver,df_corn,df_oat,df_rough_rice,df_soybean, on='Date')\n",
    "#df"
   ],
   "metadata": {
    "collapsed": false,
    "pycharm": {
     "name": "#%%\n"
    }
   }
  },
  {
   "cell_type": "code",
   "execution_count": 14,
   "outputs": [
    {
     "data": {
      "text/plain": "           Date   cocoa  crude_oil     cotton         gold  lean_hogs  copper  \\\n0    2018-01-02  1936.0  60.369999  77.500000  1313.699951  70.724998  3.2560   \n1    2018-01-03  1907.0  61.630001  78.110001  1316.199951  71.050003  3.2370   \n2    2018-01-04  1905.0  62.009998  79.250000  1319.400024  71.375000  3.2425   \n3    2018-01-05  1895.0  61.439999  78.010002  1320.300049  71.425003  3.2070   \n4    2018-01-08  1914.0  61.730000  78.139999  1318.599976  72.974998  3.2010   \n..          ...     ...        ...        ...          ...        ...     ...   \n723  2020-12-23  2557.0  48.119999  76.139999  1874.699951  67.849998  3.5520   \n724  2020-12-28  2560.0  47.619999  76.349998  1877.199951  66.500000  3.5700   \n725  2020-12-29  2507.0  48.000000  77.010002  1879.699951  67.199997  3.5530   \n726  2020-12-30  2597.0  48.400002  77.970001  1891.000000  67.599998  3.5430   \n727  2020-12-31  2603.0  48.520000  78.120003  1893.099976  70.275002  3.5140   \n\n          coffe   wheat  live_cattle  natural_gas     platinum  sugar  \\\n0    130.199997  434.75   123.349998        3.056   943.799988  15.33   \n1    128.600006  441.00   122.949997        3.008   957.799988  15.31   \n2    129.550003  439.75   122.250000        2.880   966.099976  15.25   \n3    128.449997  437.50   119.250000        2.795   971.200012  15.08   \n4    125.150002  433.25   117.224998        2.835   972.299988  14.78   \n..          ...     ...          ...          ...          ...    ...   \n723  124.550003  588.00   111.925003        2.608  1016.200012  14.83   \n724  123.349998  577.00   113.050003        2.305  1042.199951  14.98   \n725  125.400002  585.00   112.050003        2.467  1055.699951  15.04   \n726  125.400002  601.25   112.125000        2.422  1072.599976  15.28   \n727  128.250000  603.50   112.949997        2.539  1075.400024  15.49   \n\n        silver    corn     oat  rough_rice  soybean  \n0    17.121000  353.25  242.50      1153.5   955.00  \n1    17.184999  353.00  244.50      1141.0   959.75  \n2    17.188999  351.00  245.75      1147.5   959.25  \n3    17.205000  351.25  248.50      1156.5   961.50  \n4    17.063999  347.25  250.00      1164.5   958.25  \n..         ...     ...     ...         ...      ...  \n723  25.823999  447.25  336.25      1239.0  1258.75  \n724  26.459999  456.50  336.75      1199.5  1255.25  \n725  26.138000  466.00  339.00      1220.5  1295.50  \n726  26.488001  474.50  349.00      1220.5  1303.75  \n727  26.332001  484.00  360.75      1240.0  1315.25  \n\n[728 rows x 18 columns]",
      "text/html": "<div>\n<style scoped>\n    .dataframe tbody tr th:only-of-type {\n        vertical-align: middle;\n    }\n\n    .dataframe tbody tr th {\n        vertical-align: top;\n    }\n\n    .dataframe thead th {\n        text-align: right;\n    }\n</style>\n<table border=\"1\" class=\"dataframe\">\n  <thead>\n    <tr style=\"text-align: right;\">\n      <th></th>\n      <th>Date</th>\n      <th>cocoa</th>\n      <th>crude_oil</th>\n      <th>cotton</th>\n      <th>gold</th>\n      <th>lean_hogs</th>\n      <th>copper</th>\n      <th>coffe</th>\n      <th>wheat</th>\n      <th>live_cattle</th>\n      <th>natural_gas</th>\n      <th>platinum</th>\n      <th>sugar</th>\n      <th>silver</th>\n      <th>corn</th>\n      <th>oat</th>\n      <th>rough_rice</th>\n      <th>soybean</th>\n    </tr>\n  </thead>\n  <tbody>\n    <tr>\n      <th>0</th>\n      <td>2018-01-02</td>\n      <td>1936.0</td>\n      <td>60.369999</td>\n      <td>77.500000</td>\n      <td>1313.699951</td>\n      <td>70.724998</td>\n      <td>3.2560</td>\n      <td>130.199997</td>\n      <td>434.75</td>\n      <td>123.349998</td>\n      <td>3.056</td>\n      <td>943.799988</td>\n      <td>15.33</td>\n      <td>17.121000</td>\n      <td>353.25</td>\n      <td>242.50</td>\n      <td>1153.5</td>\n      <td>955.00</td>\n    </tr>\n    <tr>\n      <th>1</th>\n      <td>2018-01-03</td>\n      <td>1907.0</td>\n      <td>61.630001</td>\n      <td>78.110001</td>\n      <td>1316.199951</td>\n      <td>71.050003</td>\n      <td>3.2370</td>\n      <td>128.600006</td>\n      <td>441.00</td>\n      <td>122.949997</td>\n      <td>3.008</td>\n      <td>957.799988</td>\n      <td>15.31</td>\n      <td>17.184999</td>\n      <td>353.00</td>\n      <td>244.50</td>\n      <td>1141.0</td>\n      <td>959.75</td>\n    </tr>\n    <tr>\n      <th>2</th>\n      <td>2018-01-04</td>\n      <td>1905.0</td>\n      <td>62.009998</td>\n      <td>79.250000</td>\n      <td>1319.400024</td>\n      <td>71.375000</td>\n      <td>3.2425</td>\n      <td>129.550003</td>\n      <td>439.75</td>\n      <td>122.250000</td>\n      <td>2.880</td>\n      <td>966.099976</td>\n      <td>15.25</td>\n      <td>17.188999</td>\n      <td>351.00</td>\n      <td>245.75</td>\n      <td>1147.5</td>\n      <td>959.25</td>\n    </tr>\n    <tr>\n      <th>3</th>\n      <td>2018-01-05</td>\n      <td>1895.0</td>\n      <td>61.439999</td>\n      <td>78.010002</td>\n      <td>1320.300049</td>\n      <td>71.425003</td>\n      <td>3.2070</td>\n      <td>128.449997</td>\n      <td>437.50</td>\n      <td>119.250000</td>\n      <td>2.795</td>\n      <td>971.200012</td>\n      <td>15.08</td>\n      <td>17.205000</td>\n      <td>351.25</td>\n      <td>248.50</td>\n      <td>1156.5</td>\n      <td>961.50</td>\n    </tr>\n    <tr>\n      <th>4</th>\n      <td>2018-01-08</td>\n      <td>1914.0</td>\n      <td>61.730000</td>\n      <td>78.139999</td>\n      <td>1318.599976</td>\n      <td>72.974998</td>\n      <td>3.2010</td>\n      <td>125.150002</td>\n      <td>433.25</td>\n      <td>117.224998</td>\n      <td>2.835</td>\n      <td>972.299988</td>\n      <td>14.78</td>\n      <td>17.063999</td>\n      <td>347.25</td>\n      <td>250.00</td>\n      <td>1164.5</td>\n      <td>958.25</td>\n    </tr>\n    <tr>\n      <th>...</th>\n      <td>...</td>\n      <td>...</td>\n      <td>...</td>\n      <td>...</td>\n      <td>...</td>\n      <td>...</td>\n      <td>...</td>\n      <td>...</td>\n      <td>...</td>\n      <td>...</td>\n      <td>...</td>\n      <td>...</td>\n      <td>...</td>\n      <td>...</td>\n      <td>...</td>\n      <td>...</td>\n      <td>...</td>\n      <td>...</td>\n    </tr>\n    <tr>\n      <th>723</th>\n      <td>2020-12-23</td>\n      <td>2557.0</td>\n      <td>48.119999</td>\n      <td>76.139999</td>\n      <td>1874.699951</td>\n      <td>67.849998</td>\n      <td>3.5520</td>\n      <td>124.550003</td>\n      <td>588.00</td>\n      <td>111.925003</td>\n      <td>2.608</td>\n      <td>1016.200012</td>\n      <td>14.83</td>\n      <td>25.823999</td>\n      <td>447.25</td>\n      <td>336.25</td>\n      <td>1239.0</td>\n      <td>1258.75</td>\n    </tr>\n    <tr>\n      <th>724</th>\n      <td>2020-12-28</td>\n      <td>2560.0</td>\n      <td>47.619999</td>\n      <td>76.349998</td>\n      <td>1877.199951</td>\n      <td>66.500000</td>\n      <td>3.5700</td>\n      <td>123.349998</td>\n      <td>577.00</td>\n      <td>113.050003</td>\n      <td>2.305</td>\n      <td>1042.199951</td>\n      <td>14.98</td>\n      <td>26.459999</td>\n      <td>456.50</td>\n      <td>336.75</td>\n      <td>1199.5</td>\n      <td>1255.25</td>\n    </tr>\n    <tr>\n      <th>725</th>\n      <td>2020-12-29</td>\n      <td>2507.0</td>\n      <td>48.000000</td>\n      <td>77.010002</td>\n      <td>1879.699951</td>\n      <td>67.199997</td>\n      <td>3.5530</td>\n      <td>125.400002</td>\n      <td>585.00</td>\n      <td>112.050003</td>\n      <td>2.467</td>\n      <td>1055.699951</td>\n      <td>15.04</td>\n      <td>26.138000</td>\n      <td>466.00</td>\n      <td>339.00</td>\n      <td>1220.5</td>\n      <td>1295.50</td>\n    </tr>\n    <tr>\n      <th>726</th>\n      <td>2020-12-30</td>\n      <td>2597.0</td>\n      <td>48.400002</td>\n      <td>77.970001</td>\n      <td>1891.000000</td>\n      <td>67.599998</td>\n      <td>3.5430</td>\n      <td>125.400002</td>\n      <td>601.25</td>\n      <td>112.125000</td>\n      <td>2.422</td>\n      <td>1072.599976</td>\n      <td>15.28</td>\n      <td>26.488001</td>\n      <td>474.50</td>\n      <td>349.00</td>\n      <td>1220.5</td>\n      <td>1303.75</td>\n    </tr>\n    <tr>\n      <th>727</th>\n      <td>2020-12-31</td>\n      <td>2603.0</td>\n      <td>48.520000</td>\n      <td>78.120003</td>\n      <td>1893.099976</td>\n      <td>70.275002</td>\n      <td>3.5140</td>\n      <td>128.250000</td>\n      <td>603.50</td>\n      <td>112.949997</td>\n      <td>2.539</td>\n      <td>1075.400024</td>\n      <td>15.49</td>\n      <td>26.332001</td>\n      <td>484.00</td>\n      <td>360.75</td>\n      <td>1240.0</td>\n      <td>1315.25</td>\n    </tr>\n  </tbody>\n</table>\n<p>728 rows × 18 columns</p>\n</div>"
     },
     "execution_count": 14,
     "metadata": {},
     "output_type": "execute_result"
    }
   ],
   "source": [
    "dfs = [df_cocoa, df_crude_oil,df_cotton,df_gold,df_lean_hogs,df_copper,df_coffe,df_wheat,df_live_cattle,df_natural_gas,df_platinum,df_sugar,df_silver,df_corn,df_oat,df_rough_rice,df_soybean]\n",
    "df_final = functools.reduce(lambda left,right: pd.merge(left,right,on='Date'), dfs)\n",
    "df_final"
   ],
   "metadata": {
    "collapsed": false,
    "pycharm": {
     "name": "#%%\n"
    }
   }
  },
  {
   "cell_type": "code",
   "execution_count": 15,
   "outputs": [],
   "source": [
    "df_final.to_csv('data.csv',index=False)"
   ],
   "metadata": {
    "collapsed": false,
    "pycharm": {
     "name": "#%%\n"
    }
   }
  },
  {
   "cell_type": "code",
   "execution_count": 17,
   "outputs": [
    {
     "name": "stdout",
     "output_type": "stream",
     "text": [
      "<class 'pandas.core.frame.DataFrame'>\n",
      "Int64Index: 728 entries, 0 to 727\n",
      "Data columns (total 18 columns):\n",
      " #   Column       Non-Null Count  Dtype  \n",
      "---  ------       --------------  -----  \n",
      " 0   Date         728 non-null    object \n",
      " 1   cocoa        728 non-null    float64\n",
      " 2   crude_oil    728 non-null    float64\n",
      " 3   cotton       728 non-null    float64\n",
      " 4   gold         728 non-null    float64\n",
      " 5   lean_hogs    728 non-null    float64\n",
      " 6   copper       728 non-null    float64\n",
      " 7   coffe        728 non-null    float64\n",
      " 8   wheat        728 non-null    float64\n",
      " 9   live_cattle  728 non-null    float64\n",
      " 10  natural_gas  728 non-null    float64\n",
      " 11  platinum     728 non-null    float64\n",
      " 12  sugar        728 non-null    float64\n",
      " 13  silver       728 non-null    float64\n",
      " 14  corn         728 non-null    float64\n",
      " 15  oat          728 non-null    float64\n",
      " 16  rough_rice   728 non-null    float64\n",
      " 17  soybean      728 non-null    float64\n",
      "dtypes: float64(17), object(1)\n",
      "memory usage: 128.1+ KB\n"
     ]
    }
   ],
   "source": [
    "df_final.info()\n"
   ],
   "metadata": {
    "collapsed": false,
    "pycharm": {
     "name": "#%%\n"
    }
   }
  }
 ],
 "metadata": {
  "kernelspec": {
   "name": "python3",
   "language": "python",
   "display_name": "Python 3"
  },
  "language_info": {
   "codemirror_mode": {
    "name": "ipython",
    "version": 2
   },
   "file_extension": ".py",
   "mimetype": "text/x-python",
   "name": "python",
   "nbconvert_exporter": "python",
   "pygments_lexer": "ipython2",
   "version": "2.7.6"
  }
 },
 "nbformat": 4,
 "nbformat_minor": 0
}