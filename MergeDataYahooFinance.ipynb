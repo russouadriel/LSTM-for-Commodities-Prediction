{
 "cells": [
  {
   "cell_type": "code",
   "execution_count": 7,
   "outputs": [],
   "source": [
    "import pandas as pd\n",
    "import numpy as np\n",
    "import functools"
   ],
   "metadata": {
    "collapsed": false,
    "pycharm": {
     "name": "#%%\n"
    }
   }
  },
  {
   "cell_type": "code",
   "execution_count": 8,
   "metadata": {
    "collapsed": true
   },
   "outputs": [],
   "source": [
    "df_cocoa = pd.read_csv('02 DB Commodities/test/CC=F_Cocoa.csv')\n",
    "df_cocoa = df_cocoa[['Date','Close']]\n",
    "df_cocoa = df_cocoa.rename({'Close': 'cocoa'}, axis=1)\n",
    "\n",
    "df_crude_oil = pd.read_csv('02 DB Commodities/test/CL=F_Crude Oil.csv')\n",
    "df_crude_oil = df_crude_oil[['Date','Close']]\n",
    "df_crude_oil = df_crude_oil.rename({'Close': 'crude_oil'}, axis=1)\n",
    "\n",
    "df_cotton = pd.read_csv('02 DB Commodities/test/CT=F_Cotton.csv')\n",
    "df_cotton = df_cotton[['Date','Close']]\n",
    "df_cotton = df_cotton.rename({'Close': 'cotton'}, axis=1)\n",
    "\n",
    "df_gold = pd.read_csv('02 DB Commodities/test/GC=F_Gold.csv')\n",
    "df_gold = df_gold[['Date','Close']]\n",
    "df_gold = df_gold.rename({'Close': 'gold'}, axis=1)\n",
    "\n",
    "df_lean_hogs = pd.read_csv('02 DB Commodities/test/HE=F_Lean Hogs.csv')\n",
    "df_lean_hogs = df_lean_hogs[['Date','Close']]\n",
    "df_lean_hogs = df_lean_hogs.rename({'Close': 'lean_hogs'}, axis=1)\n",
    "\n",
    "df_copper = pd.read_csv('02 DB Commodities/test/HG=F_Copper .csv')\n",
    "df_copper = df_copper[['Date','Close']]\n",
    "df_copper = df_copper.rename({'Close': 'copper'}, axis=1)\n",
    "\n",
    "df_coffe = pd.read_csv('02 DB Commodities/test/KC=F_Coffee.csv')\n",
    "df_coffe = df_coffe[['Date','Close']]\n",
    "df_coffe = df_coffe.rename({'Close': 'coffe'}, axis=1)\n",
    "\n",
    "df_wheat = pd.read_csv('02 DB Commodities/test/KE=F_KC HRW Wheat.csv')\n",
    "df_wheat = df_wheat[['Date','Close']]\n",
    "df_wheat = df_wheat.rename({'Close': 'wheat'}, axis=1)\n",
    "\n",
    "df_live_cattle = pd.read_csv('02 DB Commodities/test/LE=F_Live Cattle .csv')\n",
    "df_live_cattle = df_live_cattle[['Date','Close']]\n",
    "df_live_cattle = df_live_cattle.rename({'Close': 'live_cattle'}, axis=1)\n",
    "\n",
    "df_natural_gas = pd.read_csv('02 DB Commodities/test/NG=F_Natural Gas.csv')\n",
    "df_natural_gas = df_natural_gas[['Date','Close']]\n",
    "df_natural_gas = df_natural_gas.rename({'Close': 'natural_gas'}, axis=1)\n",
    "\n",
    "df_platinum = pd.read_csv('02 DB Commodities/test/PL=F_Platinum.csv')\n",
    "df_platinum = df_platinum[['Date','Close']]\n",
    "df_platinum = df_platinum.rename({'Close': 'platinum'}, axis=1)\n",
    "\n",
    "df_sugar = pd.read_csv('02 DB Commodities/test/SB=F_Sugar.csv')\n",
    "df_sugar = df_sugar[['Date','Close']]\n",
    "df_sugar = df_sugar.rename({'Close': 'sugar'}, axis=1)\n",
    "\n",
    "df_silver = pd.read_csv('02 DB Commodities/test/SI=F_Silver.csv')\n",
    "df_silver = df_silver[['Date','Close']]\n",
    "df_silver = df_silver.rename({'Close': 'silver'}, axis=1)\n",
    "\n",
    "df_corn = pd.read_csv('02 DB Commodities/test/ZC=F_Corn.csv')\n",
    "df_corn = df_corn[['Date','Close']]\n",
    "df_corn = df_corn.rename({'Close': 'corn'}, axis=1)\n",
    "\n",
    "df_oat = pd.read_csv('02 DB Commodities/test/ZO=F_Oat.csv')\n",
    "df_oat = df_oat[['Date','Close']]\n",
    "df_oat = df_oat.rename({'Close': 'oat'}, axis=1)\n",
    "\n",
    "df_rough_rice = pd.read_csv('02 DB Commodities/test/ZR=F_Rough Rice.csv')\n",
    "df_rough_rice = df_rough_rice[['Date','Close']]\n",
    "df_rough_rice = df_rough_rice.rename({'Close': 'rough_rice'}, axis=1)\n",
    "\n",
    "df_soybean = pd.read_csv('02 DB Commodities/test/ZS=F_Soybean.csv')\n",
    "df_soybean = df_soybean[['Date','Close']]\n",
    "df_soybean = df_soybean.rename({'Close': 'soybean'}, axis=1)\n"
   ]
  },
  {
   "cell_type": "code",
   "execution_count": 9,
   "outputs": [],
   "source": [
    "#df=pd.merge(df_cocoa, df_crude_oil,df_cotton,df_gold,df_lean_hogs,df_copper,df_coffe,df_wheat,df_live_cattle,df_natural_gas,df_platinum,df_sugar,df_silver,df_corn,df_oat,df_rough_rice,df_soybean, on='Date')\n",
    "#df"
   ],
   "metadata": {
    "collapsed": false,
    "pycharm": {
     "name": "#%%\n"
    }
   }
  },
  {
   "cell_type": "code",
   "execution_count": 10,
   "outputs": [
    {
     "data": {
      "text/plain": "          Date   cocoa  crude_oil     cotton         gold  lean_hogs  copper  \\\n0   2021-01-04  2552.0  47.619999  78.970001  1944.699951  71.224998  3.5530   \n1   2021-01-05  2514.0  49.930000  80.349998  1952.699951  70.925003  3.6405   \n2   2021-01-06  2486.0  50.630001  80.059998  1906.900024  69.775002  3.6500   \n3   2021-01-07  2547.0  50.830002  79.760002  1912.300049  69.125000  3.6955   \n4   2021-01-08  2516.0  52.240002  79.769997  1834.099976  68.699997  3.6735   \n5   2021-01-11  2480.0  52.250000  80.430000  1849.599976  68.474998  3.5640   \n6   2021-01-12  2498.0  53.209999  81.699997  1842.900024  68.500000  3.6050   \n7   2021-01-13  2499.0  52.910000  80.919998  1853.599976  66.849998  3.6170   \n8   2021-01-14  2500.0  53.570000  81.150002  1850.300049  66.300003  3.6680   \n9   2021-01-15  2527.0  52.360001  80.699997  1829.300049  67.925003  3.6030   \n10  2021-01-19  2590.0  52.980000  81.150002  1839.500000  66.474998  3.6360   \n11  2021-01-20  2569.0  53.240002  81.589996  1865.900024  68.425003  3.6475   \n12  2021-01-21  2550.0  53.130001  82.570000  1865.300049  68.099998  3.6555   \n13  2021-01-22  2529.0  52.270000  81.559998  1855.699951  69.925003  3.6355   \n14  2021-01-25  2508.0  52.770000  82.330002  1854.900024  70.625000  3.6405   \n15  2021-01-26  2545.0  52.610001  81.709999  1850.699951  70.449997  3.6280   \n16  2021-01-27  2504.0  52.849998  80.839996  1844.900024  70.574997  3.5715   \n17  2021-02-01  2547.0  53.549999  80.029999  1860.800049  69.550003  3.5620   \n18  2021-02-02  2599.0  54.759998  80.690002  1830.500000  71.550003  3.5390   \n19  2021-02-03  2527.0  55.689999  80.989998  1832.199951  72.375000  3.5785   \n20  2021-02-04  2532.0  56.230000  84.279999  1788.900024  71.025002  3.5660   \n21  2021-02-05  2587.0  56.849998  82.739998  1810.900024  70.974998  3.6390   \n\n         coffe   wheat  live_cattle  natural_gas     platinum      sugar  \\\n0   126.150002  599.50   112.300003        2.581  1066.000000  15.760000   \n1   125.099998  609.25   115.050003        2.702  1114.699951  16.120001   \n2   120.900002  603.50   115.000000        2.716  1105.699951  16.250000   \n3   121.099998  598.50   114.974998        2.729  1119.699951  15.600000   \n4   123.699997  594.75   114.474998        2.700  1065.699951  15.600000   \n5   121.449997  594.00   113.400002        2.747  1039.599976  15.670000   \n6   121.400002  622.50   112.474998        2.753  1062.900024  15.460000   \n7   125.250000  625.75   112.250000        2.727  1105.900024  15.840000   \n8   127.349998  636.50   112.074997        2.666  1121.599976  16.670000   \n9   128.149994  643.00   112.775002        2.737  1085.699951  16.450001   \n10  127.150002  644.00   113.324997        2.546  1088.400024  16.100000   \n11  125.199997  637.00   113.349998        2.539  1112.800049  16.270000   \n12  126.449997  635.75   114.099998        2.491  1124.199951  16.049999   \n13  124.050003  613.25   116.724998        2.446  1108.199951  15.870000   \n14  123.250000  627.25   116.525002        2.602  1101.199951  15.740000   \n15  124.500000  641.00   117.000000        2.656  1103.800049  15.740000   \n16  125.500000  636.75   116.449997        2.760  1075.500000  15.800000   \n17  125.349998  625.25   114.875000        2.850  1135.500000  16.150000   \n18  123.400002  619.00   115.974998        2.845  1092.699951  16.290001   \n19  123.949997  625.50   115.474998        2.789  1111.599976  16.040001   \n20  124.050003  618.75   116.449997        2.935  1100.099976  16.049999   \n21  124.500000  625.25   116.724998        2.863  1130.300049  16.420000   \n\n       silver    corn     oat  rough_rice  soybean  \n0   27.284000  483.75  356.00      1245.0  1316.50  \n1   27.570999  491.75  363.25      1235.5  1350.00  \n2   26.973000  495.00  359.75      1242.0  1365.25  \n3   27.200001  494.00  355.25      1245.0  1360.50  \n4   24.582001  496.25  357.75      1241.5  1375.75  \n5   25.239000  492.25  354.75      1234.0  1374.50  \n6   25.384001  517.25  362.00      1261.0  1422.00  \n7   25.520000  524.50  361.75      1288.0  1411.00  \n8   25.746000  534.25  367.75      1289.5  1436.50  \n9   24.825001  531.50  366.00      1311.5  1416.75  \n10  25.278999  526.00  362.50      1319.5  1385.75  \n11  25.733999  522.00  364.00      1321.0  1369.50  \n12  25.822001  524.25  360.50      1324.5  1370.25  \n13  25.524000  500.50  345.25      1327.5  1311.75  \n14  25.455000  511.50  354.50      1323.5  1343.50  \n15  25.528999  532.25  354.75      1330.5  1370.25  \n16  25.375999  534.00  352.50      1345.5  1374.75  \n17  29.398001  549.25  347.50      1334.0  1365.25  \n18  26.384001  543.00  345.50      1336.0  1354.75  \n19  26.878000  552.00  349.00      1309.0  1371.25  \n20  26.223000  550.00  349.75      1302.5  1372.50  \n21  27.014000  548.50  349.25      1300.0  1366.75  ",
      "text/html": "<div>\n<style scoped>\n    .dataframe tbody tr th:only-of-type {\n        vertical-align: middle;\n    }\n\n    .dataframe tbody tr th {\n        vertical-align: top;\n    }\n\n    .dataframe thead th {\n        text-align: right;\n    }\n</style>\n<table border=\"1\" class=\"dataframe\">\n  <thead>\n    <tr style=\"text-align: right;\">\n      <th></th>\n      <th>Date</th>\n      <th>cocoa</th>\n      <th>crude_oil</th>\n      <th>cotton</th>\n      <th>gold</th>\n      <th>lean_hogs</th>\n      <th>copper</th>\n      <th>coffe</th>\n      <th>wheat</th>\n      <th>live_cattle</th>\n      <th>natural_gas</th>\n      <th>platinum</th>\n      <th>sugar</th>\n      <th>silver</th>\n      <th>corn</th>\n      <th>oat</th>\n      <th>rough_rice</th>\n      <th>soybean</th>\n    </tr>\n  </thead>\n  <tbody>\n    <tr>\n      <th>0</th>\n      <td>2021-01-04</td>\n      <td>2552.0</td>\n      <td>47.619999</td>\n      <td>78.970001</td>\n      <td>1944.699951</td>\n      <td>71.224998</td>\n      <td>3.5530</td>\n      <td>126.150002</td>\n      <td>599.50</td>\n      <td>112.300003</td>\n      <td>2.581</td>\n      <td>1066.000000</td>\n      <td>15.760000</td>\n      <td>27.284000</td>\n      <td>483.75</td>\n      <td>356.00</td>\n      <td>1245.0</td>\n      <td>1316.50</td>\n    </tr>\n    <tr>\n      <th>1</th>\n      <td>2021-01-05</td>\n      <td>2514.0</td>\n      <td>49.930000</td>\n      <td>80.349998</td>\n      <td>1952.699951</td>\n      <td>70.925003</td>\n      <td>3.6405</td>\n      <td>125.099998</td>\n      <td>609.25</td>\n      <td>115.050003</td>\n      <td>2.702</td>\n      <td>1114.699951</td>\n      <td>16.120001</td>\n      <td>27.570999</td>\n      <td>491.75</td>\n      <td>363.25</td>\n      <td>1235.5</td>\n      <td>1350.00</td>\n    </tr>\n    <tr>\n      <th>2</th>\n      <td>2021-01-06</td>\n      <td>2486.0</td>\n      <td>50.630001</td>\n      <td>80.059998</td>\n      <td>1906.900024</td>\n      <td>69.775002</td>\n      <td>3.6500</td>\n      <td>120.900002</td>\n      <td>603.50</td>\n      <td>115.000000</td>\n      <td>2.716</td>\n      <td>1105.699951</td>\n      <td>16.250000</td>\n      <td>26.973000</td>\n      <td>495.00</td>\n      <td>359.75</td>\n      <td>1242.0</td>\n      <td>1365.25</td>\n    </tr>\n    <tr>\n      <th>3</th>\n      <td>2021-01-07</td>\n      <td>2547.0</td>\n      <td>50.830002</td>\n      <td>79.760002</td>\n      <td>1912.300049</td>\n      <td>69.125000</td>\n      <td>3.6955</td>\n      <td>121.099998</td>\n      <td>598.50</td>\n      <td>114.974998</td>\n      <td>2.729</td>\n      <td>1119.699951</td>\n      <td>15.600000</td>\n      <td>27.200001</td>\n      <td>494.00</td>\n      <td>355.25</td>\n      <td>1245.0</td>\n      <td>1360.50</td>\n    </tr>\n    <tr>\n      <th>4</th>\n      <td>2021-01-08</td>\n      <td>2516.0</td>\n      <td>52.240002</td>\n      <td>79.769997</td>\n      <td>1834.099976</td>\n      <td>68.699997</td>\n      <td>3.6735</td>\n      <td>123.699997</td>\n      <td>594.75</td>\n      <td>114.474998</td>\n      <td>2.700</td>\n      <td>1065.699951</td>\n      <td>15.600000</td>\n      <td>24.582001</td>\n      <td>496.25</td>\n      <td>357.75</td>\n      <td>1241.5</td>\n      <td>1375.75</td>\n    </tr>\n    <tr>\n      <th>5</th>\n      <td>2021-01-11</td>\n      <td>2480.0</td>\n      <td>52.250000</td>\n      <td>80.430000</td>\n      <td>1849.599976</td>\n      <td>68.474998</td>\n      <td>3.5640</td>\n      <td>121.449997</td>\n      <td>594.00</td>\n      <td>113.400002</td>\n      <td>2.747</td>\n      <td>1039.599976</td>\n      <td>15.670000</td>\n      <td>25.239000</td>\n      <td>492.25</td>\n      <td>354.75</td>\n      <td>1234.0</td>\n      <td>1374.50</td>\n    </tr>\n    <tr>\n      <th>6</th>\n      <td>2021-01-12</td>\n      <td>2498.0</td>\n      <td>53.209999</td>\n      <td>81.699997</td>\n      <td>1842.900024</td>\n      <td>68.500000</td>\n      <td>3.6050</td>\n      <td>121.400002</td>\n      <td>622.50</td>\n      <td>112.474998</td>\n      <td>2.753</td>\n      <td>1062.900024</td>\n      <td>15.460000</td>\n      <td>25.384001</td>\n      <td>517.25</td>\n      <td>362.00</td>\n      <td>1261.0</td>\n      <td>1422.00</td>\n    </tr>\n    <tr>\n      <th>7</th>\n      <td>2021-01-13</td>\n      <td>2499.0</td>\n      <td>52.910000</td>\n      <td>80.919998</td>\n      <td>1853.599976</td>\n      <td>66.849998</td>\n      <td>3.6170</td>\n      <td>125.250000</td>\n      <td>625.75</td>\n      <td>112.250000</td>\n      <td>2.727</td>\n      <td>1105.900024</td>\n      <td>15.840000</td>\n      <td>25.520000</td>\n      <td>524.50</td>\n      <td>361.75</td>\n      <td>1288.0</td>\n      <td>1411.00</td>\n    </tr>\n    <tr>\n      <th>8</th>\n      <td>2021-01-14</td>\n      <td>2500.0</td>\n      <td>53.570000</td>\n      <td>81.150002</td>\n      <td>1850.300049</td>\n      <td>66.300003</td>\n      <td>3.6680</td>\n      <td>127.349998</td>\n      <td>636.50</td>\n      <td>112.074997</td>\n      <td>2.666</td>\n      <td>1121.599976</td>\n      <td>16.670000</td>\n      <td>25.746000</td>\n      <td>534.25</td>\n      <td>367.75</td>\n      <td>1289.5</td>\n      <td>1436.50</td>\n    </tr>\n    <tr>\n      <th>9</th>\n      <td>2021-01-15</td>\n      <td>2527.0</td>\n      <td>52.360001</td>\n      <td>80.699997</td>\n      <td>1829.300049</td>\n      <td>67.925003</td>\n      <td>3.6030</td>\n      <td>128.149994</td>\n      <td>643.00</td>\n      <td>112.775002</td>\n      <td>2.737</td>\n      <td>1085.699951</td>\n      <td>16.450001</td>\n      <td>24.825001</td>\n      <td>531.50</td>\n      <td>366.00</td>\n      <td>1311.5</td>\n      <td>1416.75</td>\n    </tr>\n    <tr>\n      <th>10</th>\n      <td>2021-01-19</td>\n      <td>2590.0</td>\n      <td>52.980000</td>\n      <td>81.150002</td>\n      <td>1839.500000</td>\n      <td>66.474998</td>\n      <td>3.6360</td>\n      <td>127.150002</td>\n      <td>644.00</td>\n      <td>113.324997</td>\n      <td>2.546</td>\n      <td>1088.400024</td>\n      <td>16.100000</td>\n      <td>25.278999</td>\n      <td>526.00</td>\n      <td>362.50</td>\n      <td>1319.5</td>\n      <td>1385.75</td>\n    </tr>\n    <tr>\n      <th>11</th>\n      <td>2021-01-20</td>\n      <td>2569.0</td>\n      <td>53.240002</td>\n      <td>81.589996</td>\n      <td>1865.900024</td>\n      <td>68.425003</td>\n      <td>3.6475</td>\n      <td>125.199997</td>\n      <td>637.00</td>\n      <td>113.349998</td>\n      <td>2.539</td>\n      <td>1112.800049</td>\n      <td>16.270000</td>\n      <td>25.733999</td>\n      <td>522.00</td>\n      <td>364.00</td>\n      <td>1321.0</td>\n      <td>1369.50</td>\n    </tr>\n    <tr>\n      <th>12</th>\n      <td>2021-01-21</td>\n      <td>2550.0</td>\n      <td>53.130001</td>\n      <td>82.570000</td>\n      <td>1865.300049</td>\n      <td>68.099998</td>\n      <td>3.6555</td>\n      <td>126.449997</td>\n      <td>635.75</td>\n      <td>114.099998</td>\n      <td>2.491</td>\n      <td>1124.199951</td>\n      <td>16.049999</td>\n      <td>25.822001</td>\n      <td>524.25</td>\n      <td>360.50</td>\n      <td>1324.5</td>\n      <td>1370.25</td>\n    </tr>\n    <tr>\n      <th>13</th>\n      <td>2021-01-22</td>\n      <td>2529.0</td>\n      <td>52.270000</td>\n      <td>81.559998</td>\n      <td>1855.699951</td>\n      <td>69.925003</td>\n      <td>3.6355</td>\n      <td>124.050003</td>\n      <td>613.25</td>\n      <td>116.724998</td>\n      <td>2.446</td>\n      <td>1108.199951</td>\n      <td>15.870000</td>\n      <td>25.524000</td>\n      <td>500.50</td>\n      <td>345.25</td>\n      <td>1327.5</td>\n      <td>1311.75</td>\n    </tr>\n    <tr>\n      <th>14</th>\n      <td>2021-01-25</td>\n      <td>2508.0</td>\n      <td>52.770000</td>\n      <td>82.330002</td>\n      <td>1854.900024</td>\n      <td>70.625000</td>\n      <td>3.6405</td>\n      <td>123.250000</td>\n      <td>627.25</td>\n      <td>116.525002</td>\n      <td>2.602</td>\n      <td>1101.199951</td>\n      <td>15.740000</td>\n      <td>25.455000</td>\n      <td>511.50</td>\n      <td>354.50</td>\n      <td>1323.5</td>\n      <td>1343.50</td>\n    </tr>\n    <tr>\n      <th>15</th>\n      <td>2021-01-26</td>\n      <td>2545.0</td>\n      <td>52.610001</td>\n      <td>81.709999</td>\n      <td>1850.699951</td>\n      <td>70.449997</td>\n      <td>3.6280</td>\n      <td>124.500000</td>\n      <td>641.00</td>\n      <td>117.000000</td>\n      <td>2.656</td>\n      <td>1103.800049</td>\n      <td>15.740000</td>\n      <td>25.528999</td>\n      <td>532.25</td>\n      <td>354.75</td>\n      <td>1330.5</td>\n      <td>1370.25</td>\n    </tr>\n    <tr>\n      <th>16</th>\n      <td>2021-01-27</td>\n      <td>2504.0</td>\n      <td>52.849998</td>\n      <td>80.839996</td>\n      <td>1844.900024</td>\n      <td>70.574997</td>\n      <td>3.5715</td>\n      <td>125.500000</td>\n      <td>636.75</td>\n      <td>116.449997</td>\n      <td>2.760</td>\n      <td>1075.500000</td>\n      <td>15.800000</td>\n      <td>25.375999</td>\n      <td>534.00</td>\n      <td>352.50</td>\n      <td>1345.5</td>\n      <td>1374.75</td>\n    </tr>\n    <tr>\n      <th>17</th>\n      <td>2021-02-01</td>\n      <td>2547.0</td>\n      <td>53.549999</td>\n      <td>80.029999</td>\n      <td>1860.800049</td>\n      <td>69.550003</td>\n      <td>3.5620</td>\n      <td>125.349998</td>\n      <td>625.25</td>\n      <td>114.875000</td>\n      <td>2.850</td>\n      <td>1135.500000</td>\n      <td>16.150000</td>\n      <td>29.398001</td>\n      <td>549.25</td>\n      <td>347.50</td>\n      <td>1334.0</td>\n      <td>1365.25</td>\n    </tr>\n    <tr>\n      <th>18</th>\n      <td>2021-02-02</td>\n      <td>2599.0</td>\n      <td>54.759998</td>\n      <td>80.690002</td>\n      <td>1830.500000</td>\n      <td>71.550003</td>\n      <td>3.5390</td>\n      <td>123.400002</td>\n      <td>619.00</td>\n      <td>115.974998</td>\n      <td>2.845</td>\n      <td>1092.699951</td>\n      <td>16.290001</td>\n      <td>26.384001</td>\n      <td>543.00</td>\n      <td>345.50</td>\n      <td>1336.0</td>\n      <td>1354.75</td>\n    </tr>\n    <tr>\n      <th>19</th>\n      <td>2021-02-03</td>\n      <td>2527.0</td>\n      <td>55.689999</td>\n      <td>80.989998</td>\n      <td>1832.199951</td>\n      <td>72.375000</td>\n      <td>3.5785</td>\n      <td>123.949997</td>\n      <td>625.50</td>\n      <td>115.474998</td>\n      <td>2.789</td>\n      <td>1111.599976</td>\n      <td>16.040001</td>\n      <td>26.878000</td>\n      <td>552.00</td>\n      <td>349.00</td>\n      <td>1309.0</td>\n      <td>1371.25</td>\n    </tr>\n    <tr>\n      <th>20</th>\n      <td>2021-02-04</td>\n      <td>2532.0</td>\n      <td>56.230000</td>\n      <td>84.279999</td>\n      <td>1788.900024</td>\n      <td>71.025002</td>\n      <td>3.5660</td>\n      <td>124.050003</td>\n      <td>618.75</td>\n      <td>116.449997</td>\n      <td>2.935</td>\n      <td>1100.099976</td>\n      <td>16.049999</td>\n      <td>26.223000</td>\n      <td>550.00</td>\n      <td>349.75</td>\n      <td>1302.5</td>\n      <td>1372.50</td>\n    </tr>\n    <tr>\n      <th>21</th>\n      <td>2021-02-05</td>\n      <td>2587.0</td>\n      <td>56.849998</td>\n      <td>82.739998</td>\n      <td>1810.900024</td>\n      <td>70.974998</td>\n      <td>3.6390</td>\n      <td>124.500000</td>\n      <td>625.25</td>\n      <td>116.724998</td>\n      <td>2.863</td>\n      <td>1130.300049</td>\n      <td>16.420000</td>\n      <td>27.014000</td>\n      <td>548.50</td>\n      <td>349.25</td>\n      <td>1300.0</td>\n      <td>1366.75</td>\n    </tr>\n  </tbody>\n</table>\n</div>"
     },
     "execution_count": 10,
     "metadata": {},
     "output_type": "execute_result"
    }
   ],
   "source": [
    "dfs = [df_cocoa, df_crude_oil,df_cotton,df_gold,df_lean_hogs,df_copper,df_coffe,df_wheat,df_live_cattle,df_natural_gas,df_platinum,df_sugar,df_silver,df_corn,df_oat,df_rough_rice,df_soybean]\n",
    "df_final = functools.reduce(lambda left,right: pd.merge(left,right,on='Date'), dfs)\n",
    "df_final"
   ],
   "metadata": {
    "collapsed": false,
    "pycharm": {
     "name": "#%%\n"
    }
   }
  },
  {
   "cell_type": "code",
   "execution_count": 11,
   "outputs": [],
   "source": [
    "df_final.to_csv('02 DB Commodities/test/data_test.csv',index=False)"
   ],
   "metadata": {
    "collapsed": false,
    "pycharm": {
     "name": "#%%\n"
    }
   }
  },
  {
   "cell_type": "code",
   "execution_count": 12,
   "outputs": [
    {
     "name": "stdout",
     "output_type": "stream",
     "text": [
      "<class 'pandas.core.frame.DataFrame'>\n",
      "Int64Index: 22 entries, 0 to 21\n",
      "Data columns (total 18 columns):\n",
      " #   Column       Non-Null Count  Dtype  \n",
      "---  ------       --------------  -----  \n",
      " 0   Date         22 non-null     object \n",
      " 1   cocoa        22 non-null     float64\n",
      " 2   crude_oil    22 non-null     float64\n",
      " 3   cotton       22 non-null     float64\n",
      " 4   gold         22 non-null     float64\n",
      " 5   lean_hogs    22 non-null     float64\n",
      " 6   copper       22 non-null     float64\n",
      " 7   coffe        22 non-null     float64\n",
      " 8   wheat        22 non-null     float64\n",
      " 9   live_cattle  22 non-null     float64\n",
      " 10  natural_gas  22 non-null     float64\n",
      " 11  platinum     22 non-null     float64\n",
      " 12  sugar        22 non-null     float64\n",
      " 13  silver       22 non-null     float64\n",
      " 14  corn         22 non-null     float64\n",
      " 15  oat          22 non-null     float64\n",
      " 16  rough_rice   22 non-null     float64\n",
      " 17  soybean      22 non-null     float64\n",
      "dtypes: float64(17), object(1)\n",
      "memory usage: 3.3+ KB\n"
     ]
    }
   ],
   "source": [
    "df_final.info()\n"
   ],
   "metadata": {
    "collapsed": false,
    "pycharm": {
     "name": "#%%\n"
    }
   }
  }
 ],
 "metadata": {
  "kernelspec": {
   "name": "python3",
   "language": "python",
   "display_name": "Python 3"
  },
  "language_info": {
   "codemirror_mode": {
    "name": "ipython",
    "version": 2
   },
   "file_extension": ".py",
   "mimetype": "text/x-python",
   "name": "python",
   "nbconvert_exporter": "python",
   "pygments_lexer": "ipython2",
   "version": "2.7.6"
  }
 },
 "nbformat": 4,
 "nbformat_minor": 0
}