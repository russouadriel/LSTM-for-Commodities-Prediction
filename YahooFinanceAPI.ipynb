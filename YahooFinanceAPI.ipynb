{
 "cells": [
  {
   "cell_type": "code",
   "execution_count": 5,
   "outputs": [],
   "source": [
    "#!pip install yfinance\n"
   ],
   "metadata": {
    "collapsed": false,
    "pycharm": {
     "name": "#%%\n"
    }
   }
  },
  {
   "cell_type": "code",
   "execution_count": 6,
   "outputs": [],
   "source": [
    "import yfinance as yf\n",
    "import pandas as pd\n",
    "import numpy as np"
   ],
   "metadata": {
    "collapsed": false,
    "pycharm": {
     "name": "#%%\n"
    }
   }
  },
  {
   "cell_type": "code",
   "execution_count": 7,
   "outputs": [
    {
     "data": {
      "text/plain": "        name_es   cod       name_en\n0      petroleo  CL=F     Crude Oil\n1           oro  GC=F          Gold\n2         plata  SI=F        Silver\n3         cobre  HG=F       Copper \n4       platino  PL=F      Platinum\n5   gas natural  NG=F   Natural Gas\n6        bovino  LE=F  Live Cattle \n7       porcino  HE=F     Lean Hogs\n8          maiz  ZC=F          Corn\n9         trigo  KE=F  KC HRW Wheat\n10        arroz  ZR=F    Rough Rice\n11       azucar  SB=F         Sugar\n12         café  KC=F        Coffee\n13        avena  ZO=F           Oat\n14        cacao  CC=F         Cocoa\n15      algodon  CT=F        Cotton\n16         soja  ZS=F       Soybean",
      "text/html": "<div>\n<style scoped>\n    .dataframe tbody tr th:only-of-type {\n        vertical-align: middle;\n    }\n\n    .dataframe tbody tr th {\n        vertical-align: top;\n    }\n\n    .dataframe thead th {\n        text-align: right;\n    }\n</style>\n<table border=\"1\" class=\"dataframe\">\n  <thead>\n    <tr style=\"text-align: right;\">\n      <th></th>\n      <th>name_es</th>\n      <th>cod</th>\n      <th>name_en</th>\n    </tr>\n  </thead>\n  <tbody>\n    <tr>\n      <th>0</th>\n      <td>petroleo</td>\n      <td>CL=F</td>\n      <td>Crude Oil</td>\n    </tr>\n    <tr>\n      <th>1</th>\n      <td>oro</td>\n      <td>GC=F</td>\n      <td>Gold</td>\n    </tr>\n    <tr>\n      <th>2</th>\n      <td>plata</td>\n      <td>SI=F</td>\n      <td>Silver</td>\n    </tr>\n    <tr>\n      <th>3</th>\n      <td>cobre</td>\n      <td>HG=F</td>\n      <td>Copper</td>\n    </tr>\n    <tr>\n      <th>4</th>\n      <td>platino</td>\n      <td>PL=F</td>\n      <td>Platinum</td>\n    </tr>\n    <tr>\n      <th>5</th>\n      <td>gas natural</td>\n      <td>NG=F</td>\n      <td>Natural Gas</td>\n    </tr>\n    <tr>\n      <th>6</th>\n      <td>bovino</td>\n      <td>LE=F</td>\n      <td>Live Cattle</td>\n    </tr>\n    <tr>\n      <th>7</th>\n      <td>porcino</td>\n      <td>HE=F</td>\n      <td>Lean Hogs</td>\n    </tr>\n    <tr>\n      <th>8</th>\n      <td>maiz</td>\n      <td>ZC=F</td>\n      <td>Corn</td>\n    </tr>\n    <tr>\n      <th>9</th>\n      <td>trigo</td>\n      <td>KE=F</td>\n      <td>KC HRW Wheat</td>\n    </tr>\n    <tr>\n      <th>10</th>\n      <td>arroz</td>\n      <td>ZR=F</td>\n      <td>Rough Rice</td>\n    </tr>\n    <tr>\n      <th>11</th>\n      <td>azucar</td>\n      <td>SB=F</td>\n      <td>Sugar</td>\n    </tr>\n    <tr>\n      <th>12</th>\n      <td>café</td>\n      <td>KC=F</td>\n      <td>Coffee</td>\n    </tr>\n    <tr>\n      <th>13</th>\n      <td>avena</td>\n      <td>ZO=F</td>\n      <td>Oat</td>\n    </tr>\n    <tr>\n      <th>14</th>\n      <td>cacao</td>\n      <td>CC=F</td>\n      <td>Cocoa</td>\n    </tr>\n    <tr>\n      <th>15</th>\n      <td>algodon</td>\n      <td>CT=F</td>\n      <td>Cotton</td>\n    </tr>\n    <tr>\n      <th>16</th>\n      <td>soja</td>\n      <td>ZS=F</td>\n      <td>Soybean</td>\n    </tr>\n  </tbody>\n</table>\n</div>"
     },
     "execution_count": 7,
     "metadata": {},
     "output_type": "execute_result"
    }
   ],
   "source": [
    "Commodities_list=pd.read_csv('Commodities_list.csv')\n",
    "Commodities_list"
   ],
   "metadata": {
    "collapsed": false,
    "pycharm": {
     "name": "#%%\n"
    }
   }
  },
  {
   "cell_type": "code",
   "execution_count": 8,
   "outputs": [
    {
     "name": "stdout",
     "output_type": "stream",
     "text": [
      "[*********************100%***********************]  1 of 1 completed\n",
      "[*********************100%***********************]  1 of 1 completed\n",
      "[*********************100%***********************]  1 of 1 completed\n",
      "[*********************100%***********************]  1 of 1 completed\n",
      "[*********************100%***********************]  1 of 1 completed\n",
      "[*********************100%***********************]  1 of 1 completed\n",
      "[*********************100%***********************]  1 of 1 completed\n",
      "[*********************100%***********************]  1 of 1 completed\n",
      "[*********************100%***********************]  1 of 1 completed\n",
      "[*********************100%***********************]  1 of 1 completed\n",
      "[*********************100%***********************]  1 of 1 completed\n",
      "[*********************100%***********************]  1 of 1 completed\n",
      "[*********************100%***********************]  1 of 1 completed\n",
      "[*********************100%***********************]  1 of 1 completed\n",
      "[*********************100%***********************]  1 of 1 completed\n",
      "[*********************100%***********************]  1 of 1 completed\n",
      "[*********************100%***********************]  1 of 1 completed\n"
     ]
    }
   ],
   "source": [
    "data=[0,0,0,0,0,0,0,0,0,0,0,0,0,0,0,0,0]\n",
    "for i in range (len(Commodities_list)):\n",
    "\n",
    "    data[i] = yf.download(Commodities_list['cod'][i],start='2021-01-01',end='2021-02-06')\n",
    "    csvpath=\"02 DB Commodities/test/\"+ str(Commodities_list['cod'][i])+\"_\"+str(Commodities_list['name_en'][i])+\".csv\"\n",
    "    data[i].to_csv(path_or_buf=csvpath)\n"
   ],
   "metadata": {
    "collapsed": false,
    "pycharm": {
     "name": "#%%\n"
    }
   }
  }
 ],
 "metadata": {
  "kernelspec": {
   "name": "python3",
   "language": "python",
   "display_name": "Python 3"
  },
  "language_info": {
   "codemirror_mode": {
    "name": "ipython",
    "version": 2
   },
   "file_extension": ".py",
   "mimetype": "text/x-python",
   "name": "python",
   "nbconvert_exporter": "python",
   "pygments_lexer": "ipython2",
   "version": "2.7.6"
  }
 },
 "nbformat": 4,
 "nbformat_minor": 0
}